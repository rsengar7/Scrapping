{
 "cells": [
  {
   "cell_type": "code",
   "execution_count": 34,
   "id": "8f99a4d0",
   "metadata": {},
   "outputs": [],
   "source": [
    "import time, sys\n",
    "import wget\n",
    "import pandas as pd\n",
    "from selenium import webdriver\n",
    "from selenium.webdriver.chrome.options import Options\n",
    "from bs4 import BeautifulSoup"
   ]
  },
  {
   "cell_type": "code",
   "execution_count": 29,
   "id": "f516c606",
   "metadata": {},
   "outputs": [
    {
     "name": "stdout",
     "output_type": "stream",
     "text": [
      "Error : Message: chrome not reachable\n",
      "  (Session info: chrome=102.0.5005.61)\n",
      "\n"
     ]
    }
   ],
   "source": [
    "chrome_options = Options()\n",
    "chrome_options.add_argument(\"--start-maximized\")\n",
    "\n",
    "\n",
    "\n",
    "driver= webdriver.Chrome(options=chrome_options, executable_path='/home/ritesh/Videos/WorkBook/Imogen&Jay/Scrapping/chromedriver')\n",
    "\n",
    "try:\n",
    "    driver.get(\"https://www.environdec.com/library\")\n",
    "#     driver.get(\"https://level.ecomedes.com/?level-certificate.kind=1%7C2%7C3\")\n",
    "\n",
    "    \n",
    "    for _ in range(1, 25000):\n",
    "        time.sleep(2)\n",
    "        driver.execute_script(\"window.scrollTo(0, document.body.scrollHeight);\")\n",
    "    \n",
    "    \n",
    "except Exception as e:\n",
    "    print(\"Error :\",e)"
   ]
  },
  {
   "cell_type": "code",
   "execution_count": 33,
   "id": "3199ca18",
   "metadata": {
    "scrolled": true
   },
   "outputs": [
    {
     "name": "stdout",
     "output_type": "stream",
     "text": [
      "https://www.environdec.com/library/epd31\n",
      "Product Information :  This EPD covers Hydrogen peroxide produced in Nouryon’s European plants:\n",
      "**************************************************\n",
      "Detailed information\n",
      "Registration number:\n",
      "S-P-00031\n",
      "Status:\n",
      "Registered\n",
      "Registration date:\n",
      "September 5, 2002\n",
      "Version date:\n",
      "March 2, 2018\n",
      "Valid until:\n",
      "March 1, 2021\n",
      "Geographical scopes:\n",
      "Europe\n",
      "Company information\n",
      "Company Name:\n",
      "Nouryon\n",
      "Country:\n",
      "Sweden\n",
      "Contact:\n",
      "nina.rechner@nouryon.com\n",
      "Website:\n",
      "https://www.nouryon.com/\n",
      "::::::::::::::::::::::::::::::::::::::::::::::::::::::::::::::::::::::::::::::::::::::::::::::::::::\n",
      "Registration Number :  S-P-00031\n",
      "Status :  Registered\n",
      "Registration date :  September 5, 2002\n",
      "Version date :  March 2, 2018\n",
      "Valid until :  March 1, 2021\n",
      "Geographical scopes :  Europe\n",
      "Company Name :  Nouryon\n",
      "Country :  Sweden\n",
      "Contact :  nina.rechner@nouryon.com\n",
      "Website :  https://www.nouryon.com/\n",
      "////////////////////////////////////////////////////////////////////////////////////////////////////\n",
      "Pdf Name :  S-P-00031 Nouryon Hydrogen peroxide H2O2 (2018)\n",
      "Pdf link :  https://api.environdec.com/api/v1/EPDLibrary/Files/13065f40-2f1e-45b1-99cf-81931eb46322/Data\n"
     ]
    }
   ],
   "source": [
    "chrome_options = Options()\n",
    "chrome_options.add_argument(\"--start-maximized\")\n",
    "\n",
    "\n",
    "\n",
    "driver= webdriver.Chrome(options=chrome_options, executable_path='/home/ritesh/Videos/WorkBook/Imogen&Jay/Scrapping/chromedriver')\n",
    "\n",
    "try:\n",
    "    driver.get(\"https://www.environdec.com/library\")\n",
    "    time.sleep(4)\n",
    "    \n",
    "    driver.execute_script(\"window.scrollTo(0, 800);\")\n",
    "    \n",
    "    \n",
    "    for _ in range(1, 400):\n",
    "        time.sleep(2)\n",
    "        driver.execute_script(\"window.scrollTo(0, document.body.scrollHeight);\")\n",
    "    \n",
    "    time.sleep(5)\n",
    "    \n",
    "    product_description = []\n",
    "    registration_number = []\n",
    "    status = []\n",
    "    registration_date = []\n",
    "    version_date = []\n",
    "    valid_until = []\n",
    "    geo_scope = []\n",
    "    company_name = []\n",
    "    country_name = []\n",
    "    contact = []\n",
    "    website = []\n",
    "    pdf_link = []\n",
    "    \n",
    "    data = driver.find_elements_by_xpath('//*[@id=\"__next\"]/main/div[1]/a[3016]')\n",
    "    \n",
    "    for i in data:\n",
    "        link = i.get_attribute('href')\n",
    "        print(link)\n",
    "        \n",
    "        driver.get(link)\n",
    "        product_info = driver.find_elements_by_xpath('//*[@id=\"__next\"]/main/div[2]')\n",
    "        time.sleep(1)\n",
    "        for j in product_info:\n",
    "            print(\"Product Information : \",j.text.split(\"\\n\")[1])\n",
    "        print(\"*\"*50)\n",
    "        detail_info = driver.find_elements_by_xpath('//*[@id=\"__next\"]/main/div[3]')\n",
    "        \n",
    "        time.sleep(1)\n",
    "        for k in detail_info:\n",
    "            print(k.text)\n",
    "            _info = k.text.split(\"\\n\")\n",
    "            print(\":\"*100)\n",
    "            print(\"Registration Number : \",_info[2])\n",
    "            print(\"Status : \",_info[4])\n",
    "            print(\"Registration date : \",_info[6])\n",
    "            print(\"Version date : \",_info[8])\n",
    "            print(\"Valid until : \",_info[10])\n",
    "            print(\"Geographical scopes : \",_info[12])\n",
    "            print(\"Company Name : \",_info[15])\n",
    "            print(\"Country : \",_info[17])\n",
    "            print(\"Contact : \",_info[19])\n",
    "            print(\"Website : \",_info[21])\n",
    "        print(\"/\"*100)\n",
    "\n",
    "        download = driver.find_elements_by_xpath('//*[@id=\"__next\"]/main/div[4]/div[1]/a')\n",
    "        time.sleep(1)\n",
    "        for x in download:\n",
    "            print(\"Pdf Name : \",x.text)\n",
    "            link = x.get_attribute('href')\n",
    "            print(\"Pdf link : \",link)\n",
    "            wget.download(link, \"Pdf/\"+str(x.text)+\".pdf\")\n",
    "            \n",
    "        break\n",
    "\n",
    "\n",
    "    driver.close()\n",
    "    \n",
    "except Exception as e:\n",
    "    print(\"Error :\",e)\n",
    "    \n",
    "    driver.close()"
   ]
  },
  {
   "cell_type": "code",
   "execution_count": null,
   "id": "bbf14e37",
   "metadata": {},
   "outputs": [],
   "source": [
    "chrome_options = Options()\n",
    "chrome_options.add_argument(\"--start-maximized\")\n",
    "\n",
    "\n",
    "\n",
    "driver= webdriver.Chrome(options=chrome_options, executable_path='/home/ritesh/Videos/WorkBook/Imogen&Jay/Scrapping/chromedriver')\n",
    "\n",
    "try:\n",
    "    driver.get(\"https://www.environdec.com/library\")\n",
    "    time.sleep(4)\n",
    "    driver.execute_script(\"window.scrollTo(0, 800);\")\n",
    "    time.sleep(2)\n",
    "    \n",
    "    data = driver.find_elements_by_xpath('//*[@id=\"__next\"]/main/div[1]/a[1]')\n",
    "    \n",
    "    \n",
    "#     //*[@id=\"__next\"]/main/div[1]/a[2]\n",
    "# //*[@id=\"__next\"]/main/div[1]/a[100]\n",
    "\n",
    "    \n",
    "except Exception as e:\n",
    "    print(\"Error :\",e)"
   ]
  },
  {
   "cell_type": "code",
   "execution_count": 36,
   "id": "29863da2",
   "metadata": {},
   "outputs": [
    {
     "data": {
      "text/plain": [
       "'Pdf/S-P-00031 Nouryon Hydrogen peroxide H2O2 (2018).pdf'"
      ]
     },
     "execution_count": 36,
     "metadata": {},
     "output_type": "execute_result"
    }
   ],
   "source": [
    "# url = \"https://api.environdec.com/api/v1/EPDLibrary/Files/686e22e9-5112-47c5-b6a7-08da4d16d787/Data\"\n",
    "# name = \"S-P-00031 Nouryon Hydrogen peroxide H2O2 (2018)\"\n",
    "\n",
    "# wget.download(url, \"Pdf/\"+str(name)+\".pdf\")"
   ]
  },
  {
   "cell_type": "code",
   "execution_count": null,
   "id": "5985e6f7",
   "metadata": {},
   "outputs": [],
   "source": []
  }
 ],
 "metadata": {
  "kernelspec": {
   "display_name": "Python 3",
   "language": "python",
   "name": "python3"
  },
  "language_info": {
   "codemirror_mode": {
    "name": "ipython",
    "version": 3
   },
   "file_extension": ".py",
   "mimetype": "text/x-python",
   "name": "python",
   "nbconvert_exporter": "python",
   "pygments_lexer": "ipython3",
   "version": "3.6.9"
  }
 },
 "nbformat": 4,
 "nbformat_minor": 5
}
